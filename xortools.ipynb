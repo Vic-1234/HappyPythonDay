{
  "nbformat": 4,
  "nbformat_minor": 0,
  "metadata": {
    "colab": {
      "name": "xortools.ipynb",
      "version": "0.3.2",
      "provenance": [],
      "include_colab_link": true
    },
    "kernelspec": {
      "name": "python2",
      "display_name": "Python 2"
    }
  },
  "cells": [
    {
      "cell_type": "markdown",
      "metadata": {
        "id": "view-in-github",
        "colab_type": "text"
      },
      "source": [
        "<a href=\"https://colab.research.google.com/github/MyDearGreatTeacher/HappyPythonDay/blob/master/xortools.ipynb\" target=\"_parent\"><img src=\"https://colab.research.google.com/assets/colab-badge.svg\" alt=\"Open In Colab\"/></a>"
      ]
    },
    {
      "cell_type": "markdown",
      "metadata": {
        "id": "40vbt2e0BhDG",
        "colab_type": "text"
      },
      "source": [
        "https://ithelp.ithome.com.tw/articles/10208681\n",
        "http://yunnigu.dropsec.xyz/2016/10/05/xortool%E7%9A%84%E5%AE%89%E8%A3%85%E4%BD%BF%E7%94%A8/"
      ]
    },
    {
      "cell_type": "code",
      "metadata": {
        "id": "M-dDXvmz_6Fa",
        "colab_type": "code",
        "colab": {
          "base_uri": "https://localhost:8080/",
          "height": 102
        },
        "outputId": "4d429231-996a-4f1d-b8cd-1fdf738046e3"
      },
      "source": [
        "!git clone https://github.com/hellman/xortool.git"
      ],
      "execution_count": 1,
      "outputs": [
        {
          "output_type": "stream",
          "text": [
            "Cloning into 'xortool'...\n",
            "remote: Enumerating objects: 228, done.\u001b[K\n",
            "remote: Total 228 (delta 0), reused 0 (delta 0), pack-reused 228\u001b[K\n",
            "Receiving objects: 100% (228/228), 253.66 KiB | 7.46 MiB/s, done.\n",
            "Resolving deltas: 100% (106/106), done.\n"
          ],
          "name": "stdout"
        }
      ]
    },
    {
      "cell_type": "code",
      "metadata": {
        "id": "2Fd4z5_YAbqq",
        "colab_type": "code",
        "colab": {
          "base_uri": "https://localhost:8080/",
          "height": 34
        },
        "outputId": "40a6b98f-0d86-4989-e438-dad0b3be7c1f"
      },
      "source": [
        "!ls"
      ],
      "execution_count": 2,
      "outputs": [
        {
          "output_type": "stream",
          "text": [
            "sample_data  xortool\n"
          ],
          "name": "stdout"
        }
      ]
    },
    {
      "cell_type": "code",
      "metadata": {
        "id": "IZyS3t3UAelg",
        "colab_type": "code",
        "colab": {
          "base_uri": "https://localhost:8080/",
          "height": 34
        },
        "outputId": "f37a7ac2-0edc-44bd-fcff-cf9c0ff39bd9"
      },
      "source": [
        "import os\n",
        "os.chdir(\"xortool\")\n",
        "!ls"
      ],
      "execution_count": 3,
      "outputs": [
        {
          "output_type": "stream",
          "text": [
            "LICENSE  MANIFEST.in  README.md  setup.py  test  xortool\n"
          ],
          "name": "stdout"
        }
      ]
    },
    {
      "cell_type": "code",
      "metadata": {
        "id": "eyZblneVAlHW",
        "colab_type": "code",
        "colab": {
          "base_uri": "https://localhost:8080/",
          "height": 714
        },
        "outputId": "612f0e62-3f33-407d-bbb5-685d66a6e504"
      },
      "source": [
        "!python setup.py install"
      ],
      "execution_count": 4,
      "outputs": [
        {
          "output_type": "stream",
          "text": [
            "/usr/lib/python2.7/distutils/dist.py:267: UserWarning: Unknown distribution option: 'install_requires'\n",
            "  warnings.warn(msg)\n",
            "running install\n",
            "running build\n",
            "running build_py\n",
            "creating build\n",
            "creating build/lib.linux-x86_64-2.7\n",
            "creating build/lib.linux-x86_64-2.7/xortool\n",
            "copying xortool/libcolors.py -> build/lib.linux-x86_64-2.7/xortool\n",
            "copying xortool/__init__.py -> build/lib.linux-x86_64-2.7/xortool\n",
            "copying xortool/args.py -> build/lib.linux-x86_64-2.7/xortool\n",
            "copying xortool/charset.py -> build/lib.linux-x86_64-2.7/xortool\n",
            "copying xortool/routine.py -> build/lib.linux-x86_64-2.7/xortool\n",
            "copying xortool/colors.py -> build/lib.linux-x86_64-2.7/xortool\n",
            "running build_scripts\n",
            "creating build/scripts-2.7\n",
            "copying and adjusting xortool/xortool -> build/scripts-2.7\n",
            "copying and adjusting xortool/xortool-xor -> build/scripts-2.7\n",
            "changing mode of build/scripts-2.7/xortool from 644 to 755\n",
            "changing mode of build/scripts-2.7/xortool-xor from 644 to 755\n",
            "running install_lib\n",
            "creating /usr/local/lib/python2.7/dist-packages/xortool\n",
            "copying build/lib.linux-x86_64-2.7/xortool/libcolors.py -> /usr/local/lib/python2.7/dist-packages/xortool\n",
            "copying build/lib.linux-x86_64-2.7/xortool/__init__.py -> /usr/local/lib/python2.7/dist-packages/xortool\n",
            "copying build/lib.linux-x86_64-2.7/xortool/args.py -> /usr/local/lib/python2.7/dist-packages/xortool\n",
            "copying build/lib.linux-x86_64-2.7/xortool/charset.py -> /usr/local/lib/python2.7/dist-packages/xortool\n",
            "copying build/lib.linux-x86_64-2.7/xortool/routine.py -> /usr/local/lib/python2.7/dist-packages/xortool\n",
            "copying build/lib.linux-x86_64-2.7/xortool/colors.py -> /usr/local/lib/python2.7/dist-packages/xortool\n",
            "byte-compiling /usr/local/lib/python2.7/dist-packages/xortool/libcolors.py to libcolors.pyc\n",
            "byte-compiling /usr/local/lib/python2.7/dist-packages/xortool/__init__.py to __init__.pyc\n",
            "byte-compiling /usr/local/lib/python2.7/dist-packages/xortool/args.py to args.pyc\n",
            "byte-compiling /usr/local/lib/python2.7/dist-packages/xortool/charset.py to charset.pyc\n",
            "byte-compiling /usr/local/lib/python2.7/dist-packages/xortool/routine.py to routine.pyc\n",
            "byte-compiling /usr/local/lib/python2.7/dist-packages/xortool/colors.py to colors.pyc\n",
            "running install_scripts\n",
            "copying build/scripts-2.7/xortool-xor -> /usr/local/bin\n",
            "copying build/scripts-2.7/xortool -> /usr/local/bin\n",
            "changing mode of /usr/local/bin/xortool-xor to 755\n",
            "changing mode of /usr/local/bin/xortool to 755\n",
            "running install_egg_info\n",
            "Writing /usr/local/lib/python2.7/dist-packages/xortool-0.98.egg-info\n"
          ],
          "name": "stdout"
        }
      ]
    },
    {
      "cell_type": "code",
      "metadata": {
        "id": "ef7nyw4eAqwp",
        "colab_type": "code",
        "colab": {
          "base_uri": "https://localhost:8080/",
          "height": 34
        },
        "outputId": "4976dd50-1a90-4591-a079-a132d6d58123"
      },
      "source": [
        "!xortool -o crypto1"
      ],
      "execution_count": 7,
      "outputs": [
        {
          "output_type": "stream",
          "text": [
            "(\"\\x1b[0;31m[ERROR] Can't load file:\\n\\t\", IOError(2, 'No such file or directory'), '\\x1b[0m')\n"
          ],
          "name": "stdout"
        }
      ]
    },
    {
      "cell_type": "code",
      "metadata": {
        "id": "08zQ6UPKA7nY",
        "colab_type": "code",
        "colab": {
          "base_uri": "https://localhost:8080/",
          "height": 170
        },
        "outputId": "fef42978-ea16-408b-e06d-a80258ceefba"
      },
      "source": [
        "!sudo pip install docopt"
      ],
      "execution_count": 6,
      "outputs": [
        {
          "output_type": "stream",
          "text": [
            "\u001b[33mDEPRECATION: Python 2.7 will reach the end of its life on January 1st, 2020. Please upgrade your Python as Python 2.7 won't be maintained after that date. A future version of pip will drop support for Python 2.7.\u001b[0m\n",
            "Collecting docopt\n",
            "  Downloading https://files.pythonhosted.org/packages/a2/55/8f8cab2afd404cf578136ef2cc5dfb50baa1761b68c9da1fb1e4eed343c9/docopt-0.6.2.tar.gz\n",
            "Building wheels for collected packages: docopt\n",
            "  Building wheel for docopt (setup.py) ... \u001b[?25l\u001b[?25hdone\n",
            "  Stored in directory: /root/.cache/pip/wheels/9b/04/dd/7daf4150b6d9b12949298737de9431a324d4b797ffd63f526e\n",
            "Successfully built docopt\n",
            "Installing collected packages: docopt\n",
            "Successfully installed docopt-0.6.2\n"
          ],
          "name": "stdout"
        }
      ]
    }
  ]
}
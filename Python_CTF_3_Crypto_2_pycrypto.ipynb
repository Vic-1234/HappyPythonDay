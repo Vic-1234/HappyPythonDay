{
  "nbformat": 4,
  "nbformat_minor": 0,
  "metadata": {
    "colab": {
      "name": "Python_CTF_3_Crypto_2_pycrypto.ipynb",
      "version": "0.3.2",
      "provenance": [],
      "collapsed_sections": [],
      "include_colab_link": true
    },
    "kernelspec": {
      "name": "python2",
      "display_name": "Python 2"
    }
  },
  "cells": [
    {
      "cell_type": "markdown",
      "metadata": {
        "id": "view-in-github",
        "colab_type": "text"
      },
      "source": [
        "<a href=\"https://colab.research.google.com/github/MyDearGreatTeacher/HappyPythonDay/blob/master/Python_CTF_3_Crypto_2_pycrypto.ipynb\" target=\"_parent\"><img src=\"https://colab.research.google.com/assets/colab-badge.svg\" alt=\"Open In Colab\"/></a>"
      ]
    },
    {
      "cell_type": "markdown",
      "metadata": {
        "id": "ZlXa1no6NHMF",
        "colab_type": "text"
      },
      "source": [
        "# 現代密碼學Modern Cryptography\n",
        "\n"
      ]
    },
    {
      "cell_type": "markdown",
      "metadata": {
        "id": "7lfyTQrPad3A",
        "colab_type": "text"
      },
      "source": [
        "\n",
        "## pycrypto第三方套件\n",
        "\n",
        "https://pypi.org/project/pycrypto/\n",
        "\n",
        "### pycrypto模組支援的加密方式[僅摘錄部份]\n",
        "\n",
        "\n",
        "[1]Hashing 雜湊值 散列值：\n",
        "```\n",
        "MD5   SHA     HMAC\n",
        "```\n",
        "\n",
        "[2]對稱加密方式：\n",
        "```\n",
        "AES   DES  3DES   ARC4\n",
        "```\n",
        "\n",
        "[3]公開金鑰加密和簽名：\n",
        "```\n",
        "RSA   DSA\n",
        "```\n",
        "\n",
        "PS:本課程目的係針對初學者設計,且上課時數僅數小時,因此以實務操作為主, \n",
        "對於各密碼學演算法請參閱大學密碼學教科書"
      ]
    },
    {
      "cell_type": "markdown",
      "metadata": {
        "id": "282pV1r_ON1e",
        "colab_type": "text"
      },
      "source": [
        "# pycrypto安裝"
      ]
    },
    {
      "cell_type": "code",
      "metadata": {
        "id": "OE3kOdb9WouY",
        "colab_type": "code",
        "colab": {}
      },
      "source": [
        "!pip list"
      ],
      "execution_count": 0,
      "outputs": []
    },
    {
      "cell_type": "code",
      "metadata": {
        "id": "t6FysFMENGUe",
        "colab_type": "code",
        "colab": {}
      },
      "source": [
        "!pip install pycrypto"
      ],
      "execution_count": 0,
      "outputs": []
    },
    {
      "cell_type": "markdown",
      "metadata": {
        "id": "KdvjUT81mKUt",
        "colab_type": "text"
      },
      "source": [
        "# Hashing"
      ]
    },
    {
      "cell_type": "markdown",
      "metadata": {
        "id": "24F0fcdKZ7I0",
        "colab_type": "text"
      },
      "source": [
        "###  使用MD5\n",
        "\n",
        "https://blog.csdn.net/lxgwm2008/article/details/9287481"
      ]
    },
    {
      "cell_type": "code",
      "metadata": {
        "id": "F6H_wX9kZ8K2",
        "colab_type": "code",
        "colab": {}
      },
      "source": [
        "from Crypto.Hash import MD5\n",
        "MD5.new('abc').hexdigest()"
      ],
      "execution_count": 0,
      "outputs": []
    },
    {
      "cell_type": "code",
      "metadata": {
        "id": "7JCdOoJkXTPW",
        "colab_type": "code",
        "colab": {}
      },
      "source": [
        "from Crypto.Hash import MD5\n",
        "MD5.new('Abc').hexdigest()"
      ],
      "execution_count": 0,
      "outputs": []
    },
    {
      "cell_type": "code",
      "metadata": {
        "id": "fVot4uWwXa7n",
        "colab_type": "code",
        "colab": {}
      },
      "source": [
        "from Crypto.Hash import MD5\n",
        "MD5.new('Abccxczxczxczxcxzczxczxczxczxczxczxczxcxz').hexdigest()"
      ],
      "execution_count": 0,
      "outputs": []
    },
    {
      "cell_type": "markdown",
      "metadata": {
        "id": "oqK0vc8vOVBQ",
        "colab_type": "text"
      },
      "source": [
        "### 使用SHA"
      ]
    },
    {
      "cell_type": "code",
      "metadata": {
        "id": "5TSIsE6eN-m7",
        "colab_type": "code",
        "colab": {}
      },
      "source": [
        "from Crypto.Hash import SHA256\n",
        "\n",
        "hash = SHA256.new()\n",
        "hash.update('b cvxzv dfgnhgsdf mghfs hgdf ')\n",
        "\n",
        "hash.digest()"
      ],
      "execution_count": 0,
      "outputs": []
    },
    {
      "cell_type": "markdown",
      "metadata": {
        "id": "cuyaIJj4mQVX",
        "colab_type": "text"
      },
      "source": [
        "# Public KEY"
      ]
    },
    {
      "cell_type": "markdown",
      "metadata": {
        "id": "dHtFOlGOcb3-",
        "colab_type": "text"
      },
      "source": [
        "# RSA"
      ]
    },
    {
      "cell_type": "markdown",
      "metadata": {
        "id": "kYZ2yAv1DVO8",
        "colab_type": "text"
      },
      "source": [
        "### 產生key Pairs"
      ]
    },
    {
      "cell_type": "code",
      "metadata": {
        "id": "HKsDzAUmcdtX",
        "colab_type": "code",
        "outputId": "943f1be0-9cc8-48e5-af69-fd3781cbf680",
        "colab": {
          "base_uri": "https://localhost:8080/",
          "height": 34
        }
      },
      "source": [
        "from Crypto.PublicKey import RSA\n",
        "from Crypto import Random\n",
        "\n",
        "random_generator = Random.new().read\n",
        "key = RSA.generate(1024, random_generator)\n",
        "key"
      ],
      "execution_count": 3,
      "outputs": [
        {
          "output_type": "execute_result",
          "data": {
            "text/plain": [
              "<_RSAobj @0x7f14cb503fc8 n(1024),e,d,p,q,u,private>"
            ]
          },
          "metadata": {
            "tags": []
          },
          "execution_count": 3
        }
      ]
    },
    {
      "cell_type": "code",
      "metadata": {
        "id": "puDkMHgbDFxB",
        "colab_type": "code",
        "colab": {}
      },
      "source": [
        "key.n"
      ],
      "execution_count": 0,
      "outputs": []
    },
    {
      "cell_type": "code",
      "metadata": {
        "id": "RPmDelA2DK7d",
        "colab_type": "code",
        "colab": {
          "base_uri": "https://localhost:8080/",
          "height": 54
        },
        "outputId": "a9c2e3a1-4405-4659-f76b-632bf72f3060"
      },
      "source": [
        "key.p"
      ],
      "execution_count": 13,
      "outputs": [
        {
          "output_type": "execute_result",
          "data": {
            "text/plain": [
              "11515144750269270345383046703958872832374472803008001680397675324201111977702087044649829442929135054270043208616492482629925647551681414743238829118312223L"
            ]
          },
          "metadata": {
            "tags": []
          },
          "execution_count": 13
        }
      ]
    },
    {
      "cell_type": "code",
      "metadata": {
        "id": "HBW17eOccpmE",
        "colab_type": "code",
        "colab": {}
      },
      "source": [
        "key.can_encrypt()"
      ],
      "execution_count": 0,
      "outputs": []
    },
    {
      "cell_type": "code",
      "metadata": {
        "id": "ibwXF8xocuL6",
        "colab_type": "code",
        "colab": {}
      },
      "source": [
        "key.can_sign()"
      ],
      "execution_count": 0,
      "outputs": []
    },
    {
      "cell_type": "code",
      "metadata": {
        "id": "POKiNZ5Ocw_c",
        "colab_type": "code",
        "colab": {}
      },
      "source": [
        " key.has_private()"
      ],
      "execution_count": 0,
      "outputs": []
    },
    {
      "cell_type": "code",
      "metadata": {
        "id": "dMzCLAokc0nz",
        "colab_type": "code",
        "colab": {}
      },
      "source": [
        "public_key = key.publickey()"
      ],
      "execution_count": 0,
      "outputs": []
    },
    {
      "cell_type": "code",
      "metadata": {
        "id": "NEGGAv2cc24y",
        "colab_type": "code",
        "colab": {}
      },
      "source": [
        "public_key"
      ],
      "execution_count": 0,
      "outputs": []
    },
    {
      "cell_type": "markdown",
      "metadata": {
        "id": "n0_WthIMCszF",
        "colab_type": "text"
      },
      "source": [
        "### 使用公鑰來加密"
      ]
    },
    {
      "cell_type": "code",
      "metadata": {
        "id": "0O7AkfAAdAaf",
        "colab_type": "code",
        "colab": {}
      },
      "source": [
        "enc_data = public_key.encrypt('HappyPythonDay', 32)\n",
        "enc_data"
      ],
      "execution_count": 0,
      "outputs": []
    },
    {
      "cell_type": "markdown",
      "metadata": {
        "id": "uL9rRbExC5o4",
        "colab_type": "text"
      },
      "source": [
        "### 使用私鑰來解密"
      ]
    },
    {
      "cell_type": "code",
      "metadata": {
        "id": "IzvTWsafdHN8",
        "colab_type": "code",
        "colab": {}
      },
      "source": [
        "key.decrypt(enc_data)"
      ],
      "execution_count": 0,
      "outputs": []
    },
    {
      "cell_type": "markdown",
      "metadata": {
        "id": "iC4c1jZ1mV85",
        "colab_type": "text"
      },
      "source": [
        "# 對稱式金鑰\n"
      ]
    },
    {
      "cell_type": "markdown",
      "metadata": {
        "id": "KJZlGZ12OcTf",
        "colab_type": "text"
      },
      "source": [
        "# AES加密與解密\n",
        "\n",
        "進階加密標準(Advanced Encryption Standard, AES\n",
        "在密碼學中又稱Rijndael加密法，是美國聯邦政府採用的一種區段加密標準。這個標準用來替代原先的DES，已經被多方分析且廣為全世界所使用。\n",
        "\n",
        "https://zh.wikipedia.org/zh-tw/%E9%AB%98%E7%BA%A7%E5%8A%A0%E5%AF%86%E6%A0%87%E5%87%86"
      ]
    },
    {
      "cell_type": "code",
      "metadata": {
        "id": "rLQ8GbuyOaMI",
        "colab_type": "code",
        "colab": {}
      },
      "source": [
        "from Crypto.Cipher import AES\n",
        "\n",
        "obj = AES.new('This is a key123', AES.MODE_CBC, 'This is an IV456')\n",
        "\n",
        "message = \"BreakALLCTF{happyHackingDay}\"\n",
        "\n",
        "ciphertext = obj.encrypt(message)\n",
        "\n",
        "ciphertext "
      ],
      "execution_count": 0,
      "outputs": []
    },
    {
      "cell_type": "code",
      "metadata": {
        "id": "Y0g5nb8_O6mR",
        "colab_type": "code",
        "colab": {}
      },
      "source": [
        "from Crypto.Cipher import AES\n",
        "\n",
        "obj = AES.new('This is a key123', AES.MODE_CBC, 'This is an IV456')\n",
        "\n",
        "message = \"The answer is no\"\n",
        "\n",
        "ciphertext = obj.encrypt(message)\n",
        "\n",
        "ciphertext "
      ],
      "execution_count": 0,
      "outputs": []
    },
    {
      "cell_type": "code",
      "metadata": {
        "id": "yVOi9etZPEfW",
        "colab_type": "code",
        "colab": {}
      },
      "source": [
        "obj2 = AES.new('This is a key123', AES.MODE_CBC, 'This is an IV456')\n",
        "obj2.decrypt(ciphertext)"
      ],
      "execution_count": 0,
      "outputs": []
    },
    {
      "cell_type": "markdown",
      "metadata": {
        "id": "jf3O81b5mmaG",
        "colab_type": "text"
      },
      "source": [
        "## PicoCTF_2017: ComputeAES\n",
        "\n",
        "```\n",
        "You found this clue laying around. Can you decrypt it?\n",
        "```\n",
        "\n",
        "```\n",
        "Encrypted with AES in ECB mode. All values base64 encoded\n",
        "ciphertext = rW4q3swEuIOEy8RTIp/DCMdNPtdYopSRXKSLYnX9NQe8z+LMsZ6Mx/x8pwGwofdZ\n",
        "key = 6v3TyEgjUcQRnWuIhjdTBA==\n",
        "```\n",
        "\n",
        "Hint:Try online tools or python"
      ]
    },
    {
      "cell_type": "markdown",
      "metadata": {
        "id": "uHJ5RCr6nGKj",
        "colab_type": "text"
      },
      "source": [
        "https://github.com/lflare/picoctf_2017_writeup/blob/master/cryptography/computeaes/decrypt.py"
      ]
    },
    {
      "cell_type": "code",
      "metadata": {
        "id": "7kWBHQNbmnMR",
        "colab_type": "code",
        "colab": {}
      },
      "source": [
        "#! /usr/bin/env python3\n",
        "##\n",
        "# Script for PicoCTF computeAES challenge\n",
        "# Created by Amos (LFlare) Ng\n",
        "##\n",
        "# Requires pycrypto\n",
        "import base64\n",
        "from Crypto.Cipher import AES\n",
        "\n",
        "key = base64.b64decode(\"6v3TyEgjUcQRnWuIhjdTBA==\")\n",
        "ciphertext = base64.b64decode(\"rW4q3swEuIOEy8RTIp/DCMdNPtdYopSRXKSLYnX9NQe8z+LMsZ6Mx/x8pwGwofdZ\")\n",
        "\n",
        "crypter = AES.new(key, AES.MODE_ECB)\n",
        "plaintext = crypter.decrypt(ciphertext).decode(\"utf-8\")\n",
        "\n",
        "print(plaintext)"
      ],
      "execution_count": 0,
      "outputs": []
    },
    {
      "cell_type": "markdown",
      "metadata": {
        "id": "F5EnVzmUDu1b",
        "colab_type": "text"
      },
      "source": [
        "# 自主學習主題"
      ]
    },
    {
      "cell_type": "markdown",
      "metadata": {
        "id": "DYzSlkPYPwIO",
        "colab_type": "text"
      },
      "source": [
        "### random number generator\n",
        "\n",
        "https://pypi.org/project/pycrypto/"
      ]
    },
    {
      "cell_type": "code",
      "metadata": {
        "id": "FoXWOi92Pxbc",
        "colab_type": "code",
        "colab": {}
      },
      "source": [
        "from Crypto import Random\n",
        "rndfile = Random.new()\n",
        "rndfile.read(16)"
      ],
      "execution_count": 0,
      "outputs": []
    },
    {
      "cell_type": "code",
      "metadata": {
        "id": "px6cQ5ASQHuP",
        "colab_type": "code",
        "colab": {}
      },
      "source": [
        "from Crypto.Random import random\n",
        "random.choice(['dogs', 'cats', 'bears'])"
      ],
      "execution_count": 0,
      "outputs": []
    },
    {
      "cell_type": "markdown",
      "metadata": {
        "id": "l_WEOWZ0D8KF",
        "colab_type": "text"
      },
      "source": [
        "##  DES對稱式碼加解密實戰"
      ]
    },
    {
      "cell_type": "code",
      "metadata": {
        "id": "TdM4cHCZEDbv",
        "colab_type": "code",
        "colab": {}
      },
      "source": [
        "from Crypto.Cipher import DES\n",
        "\n",
        "des = DES.new('01234567', DES.MODE_ECB)\n",
        "\n",
        "text = 'BrCTF{HappyHack}'\n",
        "\n",
        "print(\"待加密的明文:%s\" %text)\n",
        "cipher_text = des.encrypt(text)\n",
        "\n",
        "print(\"加密後的密文:%s\" %cipher_text)\n",
        "\n",
        "plain_text = des.decrypt(cipher_text)\n",
        "print(\"解密後的答案:%s\" %plain_text)"
      ],
      "execution_count": 0,
      "outputs": []
    },
    {
      "cell_type": "markdown",
      "metadata": {
        "id": "O_RD1PtNY_eD",
        "colab_type": "text"
      },
      "source": [
        "##  3DES對稱式碼加解密實戰"
      ]
    },
    {
      "cell_type": "code",
      "metadata": {
        "id": "71DxP3pEZCph",
        "colab_type": "code",
        "colab": {}
      },
      "source": [
        "# -*- Encoding: utf-8 -*-\n",
        "\n",
        "from Crypto.Cipher import DES3\n",
        "\n",
        "\n",
        "BS = DES3.block_size\n",
        "\n",
        "pad = lambda s: s + (BS - len(s) % BS) * chr(BS - len(s) % BS)\n",
        "unpad = lambda s : s[0:-ord(s[-1])]\n",
        "\n",
        "key = 'a' * 16\n",
        "text = 'Hello, there!'\n",
        "\n",
        "cipher = DES3.new(key, DES3.MODE_ECB)\n",
        "\n",
        "encrypted_text = cipher.encrypt(pad(text))\n",
        "decrypted_text = unpad(cipher.decrypt(encrypted_text))\n",
        "\n",
        "assert text == decrypted_text"
      ],
      "execution_count": 0,
      "outputs": []
    },
    {
      "cell_type": "code",
      "metadata": {
        "id": "oUsUbD2DZPZ7",
        "colab_type": "code",
        "colab": {}
      },
      "source": [
        "encrypted_text"
      ],
      "execution_count": 0,
      "outputs": []
    },
    {
      "cell_type": "code",
      "metadata": {
        "id": "EEa9Q4gYZLrX",
        "colab_type": "code",
        "colab": {}
      },
      "source": [
        "decrypted_text"
      ],
      "execution_count": 0,
      "outputs": []
    },
    {
      "cell_type": "markdown",
      "metadata": {
        "id": "C-SEROh3EPfZ",
        "colab_type": "text"
      },
      "source": [
        "## ARC4 Stream ciphers\n",
        "\n",
        "https://blog.csdn.net/lxgwm2008/article/details/9287481"
      ]
    },
    {
      "cell_type": "code",
      "metadata": {
        "id": "21OLYELcEV_a",
        "colab_type": "code",
        "colab": {}
      },
      "source": [
        "from Crypto.Cipher import ARC4\n",
        "\n",
        "obj1 = ARC4.new('01234567')\n",
        "\n",
        "obj2 = ARC4.new('01234567')\n",
        "\n",
        "text = 'abcdefghijklmnop'\n",
        "\n",
        "cipher_text = obj1.encrypt(text)\n",
        "\n",
        "cipher_text"
      ],
      "execution_count": 0,
      "outputs": []
    },
    {
      "cell_type": "code",
      "metadata": {
        "id": "3z8WmjlGEZYr",
        "colab_type": "code",
        "colab": {}
      },
      "source": [
        "obj2.decrypt(cipher_text)"
      ],
      "execution_count": 0,
      "outputs": []
    },
    {
      "cell_type": "markdown",
      "metadata": {
        "id": "PpV23fX5Xcgy",
        "colab_type": "text"
      },
      "source": [
        "#  範例\n",
        "\n",
        "https://blog.csdn.net/werewolf_st/article/details/45935913"
      ]
    },
    {
      "cell_type": "code",
      "metadata": {
        "id": "0-shBDiqXSMe",
        "colab_type": "code",
        "colab": {}
      },
      "source": [
        "# !/usr/bin/env python\n",
        "# coding: utf-8\n",
        "'''\n",
        "\n",
        "'''\n",
        "\n",
        "from Crypto.Cipher import AES\n",
        "from binascii import b2a_hex, a2b_hex\n",
        "\n",
        "class MyCrypt():\n",
        "    def __init__(self, key):\n",
        "        self.key = key\n",
        "        self.mode = AES.MODE_CBC\n",
        "\n",
        "    def myencrypt(self, text):\n",
        "        length = 16\n",
        "        count = len(text)\n",
        "        print count\n",
        "        if count < length:\n",
        "            add = length - count\n",
        "            text= text + ('\\0' * add)\n",
        "\n",
        "        elif count > length:\n",
        "            add = (length -(count % length))\n",
        "            text= text + ('\\0' * add)\n",
        "\n",
        "        # print len(text)\n",
        "        cryptor = AES.new(self.key, self.mode, b'0000000000000000')\n",
        "        self.ciphertext = cryptor.encrypt(text)\n",
        "        return b2a_hex(self.ciphertext)\n",
        "\n",
        "    def mydecrypt(self, text):\n",
        "        cryptor = AES.new(self.key, self.mode, b'0000000000000000')\n",
        "        plain_text = cryptor.decrypt(a2b_hex(text))\n",
        "        return plain_text.rstrip('\\0')\n",
        "\n",
        "if __name__ == '__main__':\n",
        "    mycrypt = MyCrypt('abcdefghjklmnopq')\n",
        "    e = mycrypt.myencrypt('hello,world!')\n",
        "    d = mycrypt.mydecrypt(e)\n",
        "    print e\n",
        "    print d\n"
      ],
      "execution_count": 0,
      "outputs": []
    }
  ]
}
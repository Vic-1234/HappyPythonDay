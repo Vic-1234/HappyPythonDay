{
  "nbformat": 4,
  "nbformat_minor": 0,
  "metadata": {
    "colab": {
      "name": "Python_CTF_2_Crypto_1_ClassicalCrypto.ipynb",
      "version": "0.3.2",
      "provenance": [],
      "collapsed_sections": [],
      "include_colab_link": true
    },
    "kernelspec": {
      "name": "python3",
      "display_name": "Python 3"
    }
  },
  "cells": [
    {
      "cell_type": "markdown",
      "metadata": {
        "id": "view-in-github",
        "colab_type": "text"
      },
      "source": [
        "<a href=\"https://colab.research.google.com/github/MyDearGreatTeacher/HappyPythonDay/blob/master/Python_CTF_2_Crypto_1_ClassicalCrypto.ipynb\" target=\"_parent\"><img src=\"https://colab.research.google.com/assets/colab-badge.svg\" alt=\"Open In Colab\"/></a>"
      ]
    },
    {
      "cell_type": "markdown",
      "metadata": {
        "id": "aup3AxLVok4a",
        "colab_type": "text"
      },
      "source": [
        "# Python-Crypto-CTF"
      ]
    },
    {
      "cell_type": "markdown",
      "metadata": {
        "id": "l4eBnac5orM9",
        "colab_type": "text"
      },
      "source": [
        "# Crypto 101"
      ]
    },
    {
      "cell_type": "markdown",
      "metadata": {
        "id": "qjqudHQkon_R",
        "colab_type": "text"
      },
      "source": [
        "##  RC3 CTF 2016 : salad-100"
      ]
    },
    {
      "cell_type": "code",
      "metadata": {
        "id": "lPh7IHN_ovWh",
        "colab_type": "code",
        "colab": {}
      },
      "source": [
        "import string\n",
        "\n",
        "caesaralpha = \"abcdefghijklmnopqrstuvwxyz0123456789\"\n",
        "\n",
        "def caesar(input_string,rot) :\n",
        "    output_string = \"\"\n",
        "    for i in range(len(input_string)):\n",
        "        if input_string[i].isalnum():\n",
        "            idx = (caesaralpha.find(input_string[i]) + rot) % len(caesaralpha)\n",
        "            output_string += caesaralpha[idx]\n",
        "        else:\n",
        "            output_string += input_string[i]\n",
        "    return output_string\n",
        "\n",
        "enc = '7sj-ighm-742q3w4t' # encrypt data\n",
        "\n",
        "for i in range(len(caesaralpha)):\n",
        "    print(caesar(enc, i))"
      ],
      "execution_count": 0,
      "outputs": []
    },
    {
      "cell_type": "code",
      "metadata": {
        "id": "ZQYXFnYWoiSs",
        "colab_type": "code",
        "colab": {}
      },
      "source": [
        "'rc3-2016-romangod'.upper()"
      ],
      "execution_count": 0,
      "outputs": []
    },
    {
      "cell_type": "markdown",
      "metadata": {
        "id": "WVekAgxhJN08",
        "colab_type": "text"
      },
      "source": [
        "## caesar密碼:加解密"
      ]
    },
    {
      "cell_type": "code",
      "metadata": {
        "id": "Wnf2EkslHy8R",
        "colab_type": "code",
        "colab": {}
      },
      "source": [
        "import string\n",
        "\n",
        "caesaralpha = \"abcdefghijklmnopqrstuvwxyz\"\n",
        "\n",
        "def encode(input_string,rot) :\n",
        "    output_string = \"\"\n",
        "    for i in range(len(input_string)):\n",
        "        if input_string[i].isalpha():\n",
        "            idx = (caesaralpha.find(input_string[i]) + rot) % len(caesaralpha)\n",
        "            output_string += caesaralpha[idx]\n",
        "        else:\n",
        "            output_string += input_string[i]\n",
        "    return output_string\n",
        "\n",
        "def decode(input_string,rot) :\n",
        "    output_string = \"\"\n",
        "    for i in range(len(input_string)):\n",
        "        if input_string[i].isalpha():\n",
        "            idx = (caesaralpha.find(input_string[i]) + rot) % len(caesaralpha)\n",
        "            output_string += caesaralpha[idx]\n",
        "        else:\n",
        "            output_string += input_string[i]\n",
        "    return output_string\n",
        "  \n",
        "#plaintext = 'breakallctf{happypythonday}' #  data\n",
        "ciphertext = 'csfblbmmdug{ibqqzqzuipoebz}' # encrypt data\n",
        "for i in range(len(caesaralpha)):\n",
        "#    print(encode(plaintext, i))\n",
        "     print(decode(ciphertext, i))"
      ],
      "execution_count": 0,
      "outputs": []
    },
    {
      "cell_type": "markdown",
      "metadata": {
        "id": "6HoCkILOpYta",
        "colab_type": "text"
      },
      "source": [
        "# AlexCTF: Fore1: Hit the core\n",
        "\n",
        "https://github.com/ctfs/write-ups-2017/tree/master/alexctf-2017/forensics/fore1-hit-the-core-50"
      ]
    },
    {
      "cell_type": "markdown",
      "metadata": {
        "id": "eIxZyydSOHqG",
        "colab_type": "text"
      },
      "source": [
        "底下是AlexCTF 2017改編的題目你能解出古典密碼的答案嗎?\n",
        "```\n",
        "cvqAeqacLtqazEigwiXobxrCrtuiTzahfFreqc{bnjrKwgk83kgd43j85ePgb_e_rwqr7fvbmHjklo3tews_hmkogooyf0vbnk0ii87Drfgh_n kiwutfb0ghk9ro987k5tfb_hjiouo087ptfcv}\n",
        "```\n",
        "\n",
        "解答格式:ALEXCTF{XXXXXXXXXXXXXXXXXXXXXXXXXXX}"
      ]
    },
    {
      "cell_type": "markdown",
      "metadata": {
        "id": "k-ETbBpkpb7O",
        "colab_type": "text"
      },
      "source": [
        "### 第一種解法"
      ]
    },
    {
      "cell_type": "code",
      "metadata": {
        "id": "PthnSvMvpclC",
        "colab_type": "code",
        "colab": {}
      },
      "source": [
        "cipher='cvqAeqacLtqazEigwiXobxrCrtuiTzahfFreqc{bnjrKwgk83kgd43j85ePgb_e_rwqr7fvbmHjklo3tews_hmkogooyf0vbnk0ii87Drfgh_n kiwutfb0ghk9ro987k5tfb_hjiouo087ptfcv}'\n",
        "\n",
        "cipher=cipher[3:] \n",
        "\n",
        "flag = '' \n",
        "\n",
        "for x in range(0,len(cipher),1): \n",
        "    if x%5==0: \n",
        "       flag +=cipher[x]\n",
        "        \n",
        "print(flag)\n"
      ],
      "execution_count": 0,
      "outputs": []
    },
    {
      "cell_type": "markdown",
      "metadata": {
        "id": "sI7sUFbNpjKU",
        "colab_type": "text"
      },
      "source": [
        "### 第二種解法"
      ]
    },
    {
      "cell_type": "code",
      "metadata": {
        "id": "_ROykavepmKY",
        "colab_type": "code",
        "colab": {}
      },
      "source": [
        "s = 'cvqAeqacLtqazEigwiXobxrCrtuiTzahfFreqc{bnjrKwgk83kgd43j85ePgb_e_rwqr7fvbmHjklo3tews_hmkogooyf0vbnk0ii87Drfgh_n kiwutfb0ghk9ro987k5tfb_hjiouo087ptfcv}' \n",
        "print(s[3::5])"
      ],
      "execution_count": 0,
      "outputs": []
    },
    {
      "cell_type": "markdown",
      "metadata": {
        "id": "fSPb2poTpr39",
        "colab_type": "text"
      },
      "source": [
        "### 第三種解法"
      ]
    },
    {
      "cell_type": "code",
      "metadata": {
        "id": "jpOV47h5pus4",
        "colab_type": "code",
        "colab": {}
      },
      "source": [
        "cipher='cvqAeqacLtqazEigwiXobxrCrtuiTzahfFreqc{bnjrKwgk83kgd43j85ePgb_e_rwqr7fvbmHjklo3tews_hmkogooyf0vbnk0ii87Drfgh_n kiwutfb0ghk9ro987k5tfb_hjiouo087ptfcv}' \n",
        "\n",
        "''.join(cipher[3 : : 5])\n"
      ],
      "execution_count": 0,
      "outputs": []
    },
    {
      "cell_type": "markdown",
      "metadata": {
        "id": "VCsag87s9zfx",
        "colab_type": "text"
      },
      "source": [
        "## Vigenère cipher"
      ]
    },
    {
      "cell_type": "code",
      "metadata": {
        "id": "atEyrJOj92Px",
        "colab_type": "code",
        "colab": {}
      },
      "source": [
        "from string import ascii_uppercase as uppercase\n",
        "from itertools import cycle\n",
        "\n",
        "#建立密碼表\n",
        "table = dict()\n",
        "for ch in uppercase:\n",
        "    index = uppercase.index(ch)\n",
        "    table[ch] = uppercase[index:]+uppercase[:index]\n",
        "\n",
        "#建立解密密碼表\n",
        "deTable = {'A':'A'}\n",
        "start = 'Z'\n",
        "for ch in uppercase[1:]:\n",
        "    index = uppercase.index(ch)\n",
        "    deTable[ch] = chr(ord(start)+1-index)\n",
        "\n",
        "#解密金鑰\n",
        "def deKey(key):\n",
        "    return ''.join([deTable[i] for i in key])\n",
        "\n",
        "#加密/解密\n",
        "def encrypt(plainText, key):\n",
        "    result = []\n",
        "    #建立cycle物件，支援金鑰字母的循環使用\n",
        "    currentKey = cycle(key)\n",
        "    for ch in plainText:\n",
        "        if 'A'<=ch<='Z':\n",
        "            index = uppercase.index(ch)\n",
        "            #取得金鑰字母\n",
        "            ck = next(currentKey)\n",
        "            result.append(table[ck][index])\n",
        "        else:\n",
        "            result.append(ch)\n",
        "    return ''.join(result)\n",
        "\n",
        "key = 'ABCDEF'\n",
        "#key = 'DRAGON'\n",
        "p = 'BREAKAllCTF{HAPPYPYTHONDAY}'\n",
        "c = encrypt(p, key)\n",
        "\n",
        "print(\"PlainText is: %s\" %p)\n",
        "print(\"CipherText is: %s\" %c)\n",
        "print(\"DecryptText is: %s\" %encrypt(c,deKey(key)))"
      ],
      "execution_count": 0,
      "outputs": []
    },
    {
      "cell_type": "markdown",
      "metadata": {
        "id": "i7-658Ko_N_Y",
        "colab_type": "text"
      },
      "source": [
        "## Substitution cipher替換式密碼\n",
        "\n",
        "wiki:https://en.wikipedia.org/wiki/Substitution_cipher\n",
        "```\n",
        "替換式密碼，又名取代加密法，是密碼學中按規律將文字加密的一種方式。\n",
        "\n",
        "替換式密碼中可以用不同字母數為一單元，例如每一個或兩個字母為一單元，然後再作加密。密文接收者解密時需用原加密方式解碼才可取得原文本。\n",
        "\n",
        "由於拼音文字中字的組成為有限的字母，以英語為例只有26個字母，組成可能的單元數較少，因此使用替換式密碼相對較為容易，而且亦可使用簡單機械進行加密\n",
        "\n",
        "非拼音文字如中文則因單元數非常大難以使用一般加密方式，必需建立密碼本，然後逐字替換。更何況某些非拼音文字中字字皆由不同大小的字根來組字，較難轉換，因此使用替換式密碼的示例比較少。\n",
        "```\n",
        "\n",
        "```\n",
        "Simple substitution:凱薩密碼\n",
        "Polyalphabetic substitution: Vigenère cipher\n",
        "```"
      ]
    },
    {
      "cell_type": "markdown",
      "metadata": {
        "id": "Up8WFFTTosrA",
        "colab_type": "text"
      },
      "source": [
        "# Crypto 102"
      ]
    },
    {
      "cell_type": "markdown",
      "metadata": {
        "id": "_kAOZH6y9l1t",
        "colab_type": "text"
      },
      "source": [
        "## 換位密碼法 transposition cipher  \n",
        "\n",
        "換位加密法是明文中出現的字母，在密文中也會出現，只是順序被打散(明文沒出現的字母，密文也不會出現)。"
      ]
    },
    {
      "cell_type": "code",
      "metadata": {
        "id": "KhMoLNbc9rSl",
        "colab_type": "code",
        "colab": {}
      },
      "source": [
        "def encrypt(plainText, t):\n",
        "    result = []\n",
        "    length = len(t)\n",
        "    #將明文分組\n",
        "    temp = [plainText[i:i+length] for i in range(0,len(plainText),length)]\n",
        "    #除最後一組之外的其他組進行換位處理\n",
        "    for item in temp[:-1]:\n",
        "        newItem = ''\n",
        "        for i in t:\n",
        "            newItem = newItem+item[i-1]\n",
        "        result.append(newItem)\n",
        "    return ''.join(result)+temp[-1]\n",
        "\n",
        "p = 'BREAKAllCTF{HAPPYPYTHONDAY}'\n",
        "print(\"PlainText is: %s\" %p)\n",
        "\n",
        "#加密\n",
        "c = encrypt(p, (1, 4, 3, 2))\n",
        "print(\"CipherText is: %s\" %c)\n",
        "\n",
        "\n",
        "#解密)\n",
        "print(\"DecryptText is: %s\" %encrypt(c, (1, 4, 3, 2)))"
      ],
      "execution_count": 0,
      "outputs": []
    },
    {
      "cell_type": "markdown",
      "metadata": {
        "id": "N3Sy1_r9o4EC",
        "colab_type": "text"
      },
      "source": [
        "## School CTF 2015: affine-cipher-100(教)"
      ]
    },
    {
      "cell_type": "code",
      "metadata": {
        "id": "9yMlklySo5ps",
        "colab_type": "code",
        "colab": {}
      },
      "source": [
        "import string \n",
        "s = string.ascii_lowercase # a-z \n",
        "s += '_' \n",
        "d = {} \n",
        "\n",
        "for c in range(len(s)): \n",
        "      d[s[(c*4 + 15)%27]] = s[c] \n",
        "\n",
        "ciphertext = 'ifpmluglesecdlqp_rclfrseljpkq' \n",
        "s1 = '' \n",
        "\n",
        "for x in ciphertext : \n",
        "     s1 += d[x] \n",
        "\n",
        "print(s1)"
      ],
      "execution_count": 0,
      "outputs": []
    }
  ]
}
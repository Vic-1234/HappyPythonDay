{
  "nbformat": 4,
  "nbformat_minor": 0,
  "metadata": {
    "colab": {
      "name": "Python_2_3_List.ipynb",
      "version": "0.3.2",
      "provenance": [],
      "collapsed_sections": [],
      "include_colab_link": true
    },
    "kernelspec": {
      "name": "python3",
      "display_name": "Python 3"
    }
  },
  "cells": [
    {
      "cell_type": "markdown",
      "metadata": {
        "id": "view-in-github",
        "colab_type": "text"
      },
      "source": [
        "<a href=\"https://colab.research.google.com/github/MyDearGreatTeacher/HappyPythonDay/blob/master/Python_2_3_List.ipynb\" target=\"_parent\"><img src=\"https://colab.research.google.com/assets/colab-badge.svg\" alt=\"Open In Colab\"/></a>"
      ]
    },
    {
      "cell_type": "markdown",
      "metadata": {
        "id": "dbmX98Y8KmAp",
        "colab_type": "text"
      },
      "source": [
        "# 列表|串列(list)資料型態及其運算"
      ]
    },
    {
      "cell_type": "markdown",
      "metadata": {
        "id": "oIwhnWiyP13X",
        "colab_type": "text"
      },
      "source": [
        "##  Python Arrays??\n",
        "\n",
        "Python does not have built-in support for Arrays, but Python Lists can be used instead.\n",
        "\n",
        "For details please see below\n",
        "\n",
        "https://www.w3schools.com/python/python_arrays.asp"
      ]
    },
    {
      "cell_type": "markdown",
      "metadata": {
        "id": "Bt85n2GeKuYQ",
        "colab_type": "text"
      },
      "source": [
        "## 建立list\n",
        "```\n",
        "list1 = list() \n",
        "list1 = [] \n",
        "\n",
        "list2 = list([2, 3, 4])\n",
        "list2 = [2, 3, 4] \n",
        "\n",
        "list3 = list([\"red\", \"green\", \"blue\"]) \n",
        "list4 = list(range(3, 6))\n",
        "list5 = list(\"abcd\") \n",
        "```"
      ]
    },
    {
      "cell_type": "code",
      "metadata": {
        "id": "_2YPl5O_K2Uk",
        "colab_type": "code",
        "colab": {}
      },
      "source": [
        "list1 = list() \n",
        "list1"
      ],
      "execution_count": 0,
      "outputs": []
    },
    {
      "cell_type": "code",
      "metadata": {
        "id": "qGRr7t9fK7Xk",
        "colab_type": "code",
        "colab": {}
      },
      "source": [
        "list3 = list([\"red\", \"green\", \"blue\"])\n",
        "list3 "
      ],
      "execution_count": 0,
      "outputs": []
    },
    {
      "cell_type": "code",
      "metadata": {
        "id": "qqER-CPcLBKt",
        "colab_type": "code",
        "colab": {}
      },
      "source": [
        "list4 = list(range(3, 6))\n",
        "list4"
      ],
      "execution_count": 0,
      "outputs": []
    },
    {
      "cell_type": "markdown",
      "metadata": {
        "id": "7luHWmy6rm5h",
        "colab_type": "text"
      },
      "source": [
        "## List的各種運算(1)"
      ]
    },
    {
      "cell_type": "markdown",
      "metadata": {
        "id": "er9OSdENLNEI",
        "colab_type": "text"
      },
      "source": [
        "下列範例會產生何種結果\n",
        "```\n",
        "list1 = [21, 33, 14, 12, 32,98]\n",
        "\n",
        "len(list1)\n",
        "max(list1)\n",
        "min(list1)\n",
        "sum(list1)\n",
        "```"
      ]
    },
    {
      "cell_type": "code",
      "metadata": {
        "id": "1C1o1MZaLQ0K",
        "colab_type": "code",
        "colab": {}
      },
      "source": [
        "list1 = [21, 33, 14, 12, 32,98]\n",
        "len(list1)"
      ],
      "execution_count": 0,
      "outputs": []
    },
    {
      "cell_type": "markdown",
      "metadata": {
        "id": "8nOEqTQbLZN8",
        "colab_type": "text"
      },
      "source": [
        "## List的各種運算(2)串列的加法|乘法運算\n",
        "\n",
        "```\n",
        "下列範例會產生何種結果\n",
        "\n",
        "list1 = [21, 23, 25]\n",
        "list2 = [11, 92]\n",
        "\n",
        "list3 = list1 + list2\n",
        "list3\n",
        "list4 = 3 * list1\n",
        "list4\n",
        "\n",
        "\n",
        "```"
      ]
    },
    {
      "cell_type": "markdown",
      "metadata": {
        "id": "8ieMFLw8NN78",
        "colab_type": "text"
      },
      "source": [
        "##  List的各種運算(3)切片運算(Slice)\n"
      ]
    },
    {
      "cell_type": "code",
      "metadata": {
        "id": "dNuiK4-eNVww",
        "colab_type": "code",
        "colab": {}
      },
      "source": [
        "list5 = list3[2:4]\n",
        "list5"
      ],
      "execution_count": 0,
      "outputs": []
    },
    {
      "cell_type": "markdown",
      "metadata": {
        "id": "Zzio18VDM6cf",
        "colab_type": "text"
      },
      "source": [
        "## list的還有各種函數:\n",
        "```\n",
        "加一元素到串列的尾端:append()\n",
        "回傳元素x 出現於串列的次數:count()\n",
        "附加在l中所有元素於串列:extend()\n",
        "回傳在串列中第一次出現元素x的索引:index()\n",
        "將串列中的元素加以反轉:reverse()\n",
        "由小至大排序串列中的元素:sort()\n",
        "```"
      ]
    },
    {
      "cell_type": "markdown",
      "metadata": {
        "id": "hrVX3ygKMt3l",
        "colab_type": "text"
      },
      "source": [
        "## list的超強大功能:序列拆解\n"
      ]
    },
    {
      "cell_type": "code",
      "metadata": {
        "id": "NVfuhvv7MxEF",
        "colab_type": "code",
        "colab": {}
      },
      "source": [
        "a=[12,212,321,325]\n",
        "x,y,z,k = a\n",
        "z"
      ],
      "execution_count": 0,
      "outputs": []
    },
    {
      "cell_type": "markdown",
      "metadata": {
        "id": "7wI2GPNFpHDD",
        "colab_type": "text"
      },
      "source": [
        "## List comprehension 列表推導式: list的超強大功能\n",
        "```\n",
        "A list comprehension consists of brackets containing an expression followed by a for clause, \n",
        "then zero or more for or if clauses. \n",
        "The result will be a new list resulting from evaluating the expression \n",
        "in the context of the for and if clauses which follow it. \n",
        "\n",
        "https://en.wikipedia.org/wiki/List_comprehension\n",
        "```"
      ]
    },
    {
      "cell_type": "code",
      "metadata": {
        "id": "xII2QbRDMIWT",
        "colab_type": "code",
        "colab": {}
      },
      "source": [
        "list1 = [x for x in range(0,5)] \n",
        "list1 "
      ],
      "execution_count": 0,
      "outputs": []
    },
    {
      "cell_type": "code",
      "metadata": {
        "id": "Z-7qjkfNMKv0",
        "colab_type": "code",
        "colab": {}
      },
      "source": [
        "list2 = [0.5 * x for x in list1] \n",
        "list2"
      ],
      "execution_count": 0,
      "outputs": []
    },
    {
      "cell_type": "code",
      "metadata": {
        "id": "eU1A-VaHMZNh",
        "colab_type": "code",
        "colab": {}
      },
      "source": [
        "list3 = [x for x in list2 if x <= 1.5]\n",
        "list3"
      ],
      "execution_count": 0,
      "outputs": []
    },
    {
      "cell_type": "markdown",
      "metadata": {
        "id": "LnXpmLiWoZ3H",
        "colab_type": "text"
      },
      "source": [
        "### List comprehension\u000b列表推導式的應用\n",
        "\n",
        "```\n",
        "阿基米德與圓王比賽下棋， 國王說要是自己輸了的 話，阿基米德想要什麼他都可以拿得出來。 阿基米德說那就要點米吧！ \n",
        "棋盤一共 64 個小格子，在第一個格子放 l粒米，第二個格子放 2 粒米，第三個格子放 4 粒米，第四個格子放 8粒米，餘依此頡推，後面每個格子的米都是前一個格子的 2 倍，一直把 64 個格子都放滿。\n",
        "\n",
        "到底需要多少粒米呢\n",
        "```"
      ]
    },
    {
      "cell_type": "code",
      "metadata": {
        "id": "KfiRtkX0oS0i",
        "colab_type": "code",
        "colab": {}
      },
      "source": [
        "sum([2**i for i in range(5)])"
      ],
      "execution_count": 0,
      "outputs": []
    },
    {
      "cell_type": "code",
      "metadata": {
        "id": "HkdrLz8AgjTf",
        "colab_type": "code",
        "colab": {}
      },
      "source": [
        "sum([2**i for i in range(64)])"
      ],
      "execution_count": 0,
      "outputs": []
    }
  ]
}